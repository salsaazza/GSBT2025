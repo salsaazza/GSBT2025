{
  "nbformat": 4,
  "nbformat_minor": 0,
  "metadata": {
    "colab": {
      "provenance": []
    },
    "kernelspec": {
      "name": "python3",
      "display_name": "Python 3"
    },
    "language_info": {
      "name": "python"
    }
  },
  "cells": [
    {
      "cell_type": "markdown",
      "source": [
        "# BayesianSearchCV\n",
        "\n",
        "1. Apa itu hyperparameter tuning?\n",
        "2. Jelaskan metode BayesSearchCV!\n",
        "3. Bagaimana cara kerja BayesSearchCV?\n",
        "4. Apa kelebihan BayesSearchCV dibandingkan metode hyperparameter tuning lainnya?\n",
        "\n"
      ],
      "metadata": {
        "id": "pjbXCL2nNB9N"
      }
    },
    {
      "cell_type": "code",
      "execution_count": 3,
      "metadata": {
        "id": "2o0dt8txGE1k",
        "colab": {
          "base_uri": "https://localhost:8080/"
        },
        "outputId": "77e1e82f-a476-48d5-c1ac-d5d82260cbc7"
      },
      "outputs": [
        {
          "output_type": "stream",
          "name": "stdout",
          "text": [
            "Collecting scikit-optimize\n",
            "  Downloading scikit_optimize-0.10.2-py2.py3-none-any.whl.metadata (9.7 kB)\n",
            "Requirement already satisfied: joblib>=0.11 in /usr/local/lib/python3.12/dist-packages (from scikit-optimize) (1.5.2)\n",
            "Collecting pyaml>=16.9 (from scikit-optimize)\n",
            "  Downloading pyaml-25.7.0-py3-none-any.whl.metadata (12 kB)\n",
            "Requirement already satisfied: numpy>=1.20.3 in /usr/local/lib/python3.12/dist-packages (from scikit-optimize) (2.0.2)\n",
            "Requirement already satisfied: scipy>=1.1.0 in /usr/local/lib/python3.12/dist-packages (from scikit-optimize) (1.16.2)\n",
            "Requirement already satisfied: scikit-learn>=1.0.0 in /usr/local/lib/python3.12/dist-packages (from scikit-optimize) (1.6.1)\n",
            "Requirement already satisfied: packaging>=21.3 in /usr/local/lib/python3.12/dist-packages (from scikit-optimize) (25.0)\n",
            "Requirement already satisfied: PyYAML in /usr/local/lib/python3.12/dist-packages (from pyaml>=16.9->scikit-optimize) (6.0.3)\n",
            "Requirement already satisfied: threadpoolctl>=3.1.0 in /usr/local/lib/python3.12/dist-packages (from scikit-learn>=1.0.0->scikit-optimize) (3.6.0)\n",
            "Downloading scikit_optimize-0.10.2-py2.py3-none-any.whl (107 kB)\n",
            "\u001b[2K   \u001b[90m━━━━━━━━━━━━━━━━━━━━━━━━━━━━━━━━━━━━━━━━\u001b[0m \u001b[32m107.8/107.8 kB\u001b[0m \u001b[31m3.4 MB/s\u001b[0m eta \u001b[36m0:00:00\u001b[0m\n",
            "\u001b[?25hDownloading pyaml-25.7.0-py3-none-any.whl (26 kB)\n",
            "Installing collected packages: pyaml, scikit-optimize\n",
            "Successfully installed pyaml-25.7.0 scikit-optimize-0.10.2\n"
          ]
        }
      ],
      "source": [
        "# import library\n",
        "from sklearn.datasets import load_iris\n",
        "\n",
        "# Load dataset iris\n",
        "data = load_iris()\n",
        "X, y = data.data, data.target\n",
        "\n",
        "#!pip install scikit-optimize # install jika belum pernah install #\n",
        "!pip install scikit-optimize\n"
      ]
    },
    {
      "cell_type": "code",
      "source": [
        "# Load Dataset\n",
        "from sklearn.datasets import load_iris\n",
        "from sklearn.model_selection import train_test_split\n",
        "\n",
        "X, y = load_iris(return_X_y=True)\n",
        "X_train, X_test, y_train, y_test = train_test_split(X, y, train_size=0.75, random_state=0)"
      ],
      "metadata": {
        "id": "v7ENirBIHIYz"
      },
      "execution_count": 10,
      "outputs": []
    },
    {
      "cell_type": "code",
      "source": [
        "# Definisikan Model dan parameter yang akan dioptimasi (Ruang Hyperparameter)\n",
        "from sklearn.svm import SVC\n",
        "\n",
        "# Model yang dipakai\n",
        "svm = SVC()\n",
        "\n",
        "# Ruang hyperparameter yang akan dicari oleh BayesSearchCV\n",
        "param_space = {\n",
        "    'C': (1e-6, 1e+6, 'log-uniform'),      # parameter regularisasi\n",
        "    'gamma': (1e-6, 1e+1, 'log-uniform'),  # kernel coefficient\n",
        "    'kernel': ['linear', 'rbf']            # pilihan kernel\n",
        "}\n"
      ],
      "metadata": {
        "id": "vmyqOLU1IO3T"
      },
      "execution_count": 6,
      "outputs": []
    },
    {
      "cell_type": "markdown",
      "source": [
        "# Fungsi Optimisasi Menggunakan BayesianSearchCV"
      ],
      "metadata": {
        "id": "Ip5U8cL4OLUP"
      }
    },
    {
      "cell_type": "code",
      "source": [
        "# Inisialisasi BayesSearchCV\n",
        "from skopt import BayesSearchCV\n",
        "\n",
        "# Inisialisasi BayesSearchCV\n",
        "opt = BayesSearchCV(\n",
        "    estimator=svm,            # model yang akan dioptimasi (di sini SVM)\n",
        "    search_spaces=param_space, # ruang hyperparameter\n",
        "    n_iter=32,                 # jumlah iterasi pencarian (semakin banyak = lebih baik)\n",
        "    cv=3,                      # cross-validation (3-fold)\n",
        "    random_state=42,           # untuk reproducibility\n",
        "    n_jobs=-1                  # gunakan semua core CPU agar cepat\n",
        ")"
      ],
      "metadata": {
        "id": "BC0k0vXKOBJk"
      },
      "execution_count": 7,
      "outputs": []
    },
    {
      "cell_type": "code",
      "source": [
        "# Jalankan optimisasi\n",
        "opt.fit(X_train, y_train)\n",
        "\n",
        "print(\"Best Parameters:\", opt.best_params_)\n",
        "print(\"Best CV Score:\", opt.best_score_)\n",
        "\n",
        "test_score = opt.score(X_test, y_test)\n",
        "print(\"Test Accuracy:\", test_score)"
      ],
      "metadata": {
        "id": "EYoUwsYCOB5F",
        "colab": {
          "base_uri": "https://localhost:8080/"
        },
        "outputId": "ebdaf382-55ae-4b0a-e5d3-2a1f14e023bb"
      },
      "execution_count": 8,
      "outputs": [
        {
          "output_type": "stream",
          "name": "stdout",
          "text": [
            "Best Parameters: OrderedDict({'C': 9385.009339297427, 'gamma': 2.9842013176075092e-05, 'kernel': 'rbf'})\n",
            "Best CV Score: 0.9729729729729729\n",
            "Test Accuracy: 0.9736842105263158\n"
          ]
        }
      ]
    },
    {
      "cell_type": "code",
      "source": [
        "# Evaluasi Model\n",
        "print(\"Best Parameters:\", opt.best_params_)\n",
        "print(\"Best CV Score:\", opt.best_score_)\n",
        "# Evaluasi di data test\n",
        "test_score = opt.score(X_test, y_test)\n",
        "print(\"Test Accuracy on Test Set:\", test_score)"
      ],
      "metadata": {
        "id": "sox5OZx6OD0z",
        "colab": {
          "base_uri": "https://localhost:8080/"
        },
        "outputId": "ca0cc4ff-a976-4571-c5c5-21207cc2a9c8"
      },
      "execution_count": 9,
      "outputs": [
        {
          "output_type": "stream",
          "name": "stdout",
          "text": [
            "Best Parameters: OrderedDict({'C': 9385.009339297427, 'gamma': 2.9842013176075092e-05, 'kernel': 'rbf'})\n",
            "Best CV Score: 0.9729729729729729\n",
            "Test Accuracy on Test Set: 0.9736842105263158\n"
          ]
        }
      ]
    }
  ]
}