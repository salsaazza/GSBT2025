{
  "nbformat": 4,
  "nbformat_minor": 0,
  "metadata": {
    "colab": {
      "provenance": []
    },
    "kernelspec": {
      "name": "python3",
      "display_name": "Python 3"
    },
    "language_info": {
      "name": "python"
    }
  },
  "cells": [
    {
      "cell_type": "markdown",
      "source": [
        "# Overview Materi\n",
        "\n",
        "Source: https://www.youtube.com/watch?v=LDRbO9a6XPU"
      ],
      "metadata": {
        "id": "fQjXfMWTFXhh"
      }
    },
    {
      "cell_type": "markdown",
      "source": [
        "Jelaskan secara singkat apa itu decision tree menurut pemahamanmu!"
      ],
      "metadata": {
        "id": "UH5otNgmFY4r"
      }
    },
    {
      "cell_type": "markdown",
      "source": [
        "# Import Data & Libraries"
      ],
      "metadata": {
        "id": "yR_dxhoaIGZY"
      }
    },
    {
      "cell_type": "code",
      "execution_count": 1,
      "metadata": {
        "id": "E3fobMaeFOAe"
      },
      "outputs": [],
      "source": [
        "from __future__ import print_function\n",
        "\n",
        "# label kolom\n",
        "header = [\"color\", \"diameter\", \"label\"]\n",
        "\n",
        "# data training\n",
        "training_data = [\n",
        "    ['Green', 3, 'Apple'],\n",
        "    ['Yellow', 3, 'Apple'],\n",
        "    ['Red', 1, 'Grape'],\n",
        "    ['Red', 1, 'Grape'],\n",
        "    ['Yellow', 3, 'Lemon'],]\n",
        "\n",
        "# data testing\n",
        "testing_data = [\n",
        "    ['Green', 3, 'Apple'],\n",
        "    ['Yellow', 4, 'Apple'],\n",
        "    ['Red', 2, 'Grape'],\n",
        "    ['Red', 1, 'Grape'],\n",
        "    ['Yellow', 3, 'Lemon'],]"
      ]
    },
    {
      "cell_type": "markdown",
      "source": [
        "# Fungsi Dasar"
      ],
      "metadata": {
        "id": "YMsTb3E1MWY6"
      }
    },
    {
      "cell_type": "code",
      "source": [
        "# fungsi mencari apa saja unique value dari suatu kolom\n",
        "def unique_vals(rows, col_index):\n",
        "    \"\"\"Mengembalikan set nilai unik pada kolom ke-`col_index`.\"\"\"\n",
        "    return set([row[col_index] for row in rows])\n",
        "# contoh penggunaan\n",
        "print(unique_vals(training_data, 0))  # kolom warna\n",
        "print(unique_vals(training_data, 1))  # kolom diameter\n",
        "print(unique_vals(training_data, 2))  # kolom label"
      ],
      "metadata": {
        "id": "Bgzx5gwhSTWp",
        "colab": {
          "base_uri": "https://localhost:8080/"
        },
        "outputId": "9e34c7ac-5484-46f2-bf79-699ec06bda91"
      },
      "execution_count": 2,
      "outputs": [
        {
          "output_type": "stream",
          "name": "stdout",
          "text": [
            "{'Yellow', 'Red', 'Green'}\n",
            "{1, 3}\n",
            "{'Grape', 'Lemon', 'Apple'}\n"
          ]
        }
      ]
    },
    {
      "cell_type": "code",
      "source": [
        "# fungsi Menghitung jumlah unique value dari suatu kolom (kolom label)\n",
        "def class_counts(rows):\n",
        "    \"\"\"\n",
        "    Mengembalikan dict {label: jumlah} untuk kolom terakhir pada data.\n",
        "    \"\"\"\n",
        "    counts = {}  # dictionary kosong\n",
        "    for row in rows:\n",
        "        label = row[-1]        # ambil kolom terakhir (label)\n",
        "        counts[label] = counts.get(label, 0) + 1\n",
        "    return counts\n",
        "\n",
        "# contoh penggunaan\n",
        "print(class_counts(training_data))\n"
      ],
      "metadata": {
        "colab": {
          "base_uri": "https://localhost:8080/"
        },
        "id": "hhF6uUhrJesN",
        "outputId": "7b4799c3-7808-4b87-cab4-224dbf593567"
      },
      "execution_count": 3,
      "outputs": [
        {
          "output_type": "stream",
          "name": "stdout",
          "text": [
            "{'Apple': 2, 'Grape': 2, 'Lemon': 1}\n"
          ]
        }
      ]
    },
    {
      "cell_type": "code",
      "source": [
        "# fungsi pengecekan suatu value numerik atau bukan\n",
        "def is_numeric(value):\n",
        "    \"\"\"Mengembalikan True jika value bertipe int atau float, False jika tidak.\"\"\"\n",
        "    return isinstance(value, (int, float))\n",
        "\n",
        "# contoh penggunaan\n",
        "print(is_numeric(3))        # True\n",
        "print(is_numeric(3.5))      # True\n",
        "print(is_numeric(\"Green\"))  # False\n",
        "print(is_numeric(\"7\"))      # False (string, bukan int/float)\n"
      ],
      "metadata": {
        "colab": {
          "base_uri": "https://localhost:8080/"
        },
        "id": "U9mxqVcnI9vw",
        "outputId": "fbb48002-e5cd-4c2f-950d-a9f6a38b282b"
      },
      "execution_count": 4,
      "outputs": [
        {
          "output_type": "stream",
          "name": "stdout",
          "text": [
            "True\n",
            "True\n",
            "False\n",
            "False\n"
          ]
        }
      ]
    },
    {
      "cell_type": "code",
      "source": [
        "# kelas untuk merepresentasikan pertanyaan pada decision tree\n",
        "class Question:\n",
        "\n",
        "    # inisialisasi kolom dan nilai pertanyaan\n",
        "    def __init__(self, column, value):\n",
        "        self.column = column   # indeks kolom, misal 0 = color\n",
        "        self.value = value     # nilai yang dibandingkan\n",
        "\n",
        "    # mengecek apakah contoh data sesuai dengan pertanyaan\n",
        "    def match(self, example):\n",
        "        # example = satu baris data, misal ['Green', 3, 'Apple']\n",
        "        val = example[self.column]\n",
        "        # jika nilai pertanyaan numerik, gunakan perbandingan >=\n",
        "        if is_numeric(val):\n",
        "            return val >= self.value\n",
        "        else:\n",
        "            # untuk data kategorik, cek kesamaan\n",
        "            return val == self.value\n",
        "\n",
        "    # menampilkan pertanyaan dalam format string yang mudah dibaca\n",
        "    def __repr__(self):\n",
        "        condition = \">=\" if is_numeric(self.value) else \"==\"\n",
        "        return f\"Apakah {header[self.column]} {condition} {self.value}?\"\n",
        "\n",
        "\n",
        "# --------- contoh penggunaan 1 ----------\n",
        "q1 = Question(0, \"Green\")  # tanya apakah warna == Green\n",
        "print(q1)                  # => Apakah color == Green?\n",
        "print(q1.match(['Green', 3, 'Apple']))  # True\n",
        "print(q1.match(['Red', 1, 'Grape']))    # False\n",
        "\n",
        "q2 = Question(1, 3)        # tanya apakah diameter >= 3\n",
        "print(q2)                  # => Apakah diameter >= 3?\n",
        "print(q2.match(['Yellow', 4, 'Apple'])) # True\n",
        "print(q2.match(['Red', 1, 'Grape']))    # False\n"
      ],
      "metadata": {
        "id": "MekftmdeLPRo",
        "colab": {
          "base_uri": "https://localhost:8080/"
        },
        "outputId": "73473ff5-5c16-403f-bb41-0ad8216027e7"
      },
      "execution_count": 5,
      "outputs": [
        {
          "output_type": "stream",
          "name": "stdout",
          "text": [
            "Apakah color == Green?\n",
            "True\n",
            "False\n",
            "Apakah diameter >= 3?\n",
            "True\n",
            "False\n"
          ]
        }
      ]
    },
    {
      "cell_type": "code",
      "source": [
        "# membagi dataset menjadi dua berdasarkan pertanyaan\n",
        "def partition(rows, question):\n",
        "    \"\"\"Mengembalikan dua list: (true_rows, false_rows)\"\"\"\n",
        "    true_rows, false_rows = [], []\n",
        "    for row in rows:\n",
        "        if question.match(row):\n",
        "            true_rows.append(row)\n",
        "        else:\n",
        "            false_rows.append(row)\n",
        "    return true_rows, false_rows\n",
        "\n",
        "# -------- contoh penggunaan ----------\n",
        "q = Question(0, \"Green\")  # pertanyaan: apakah color == Green?\n",
        "true_rows, false_rows = partition(training_data, q)\n",
        "\n",
        "print(\"True rows:\")\n",
        "for r in true_rows:\n",
        "    print(r)\n",
        "\n",
        "print(\"\\nFalse rows:\")\n",
        "for r in false_rows:\n",
        "    print(r)\n"
      ],
      "metadata": {
        "colab": {
          "base_uri": "https://localhost:8080/"
        },
        "id": "Y3lTf9NbL8Ik",
        "outputId": "0e4cc52d-6088-4d07-d6c7-6dcee87eb5be"
      },
      "execution_count": 6,
      "outputs": [
        {
          "output_type": "stream",
          "name": "stdout",
          "text": [
            "True rows:\n",
            "['Green', 3, 'Apple']\n",
            "\n",
            "False rows:\n",
            "['Yellow', 3, 'Apple']\n",
            "['Red', 1, 'Grape']\n",
            "['Red', 1, 'Grape']\n",
            "['Yellow', 3, 'Lemon']\n"
          ]
        }
      ]
    },
    {
      "cell_type": "markdown",
      "source": [
        "**apa itu gini impurity?**\n",
        "<br> gini impurity berfungsi mengukur tingkat ketidakmurnian atau ketidakteraturan pada sebuah simpul (node) dalam pohon"
      ],
      "metadata": {
        "id": "X4D5BkyeMdSG"
      }
    },
    {
      "cell_type": "code",
      "source": [
        "# menghitung nilai Gini Impurity untuk sebuah dataset\n",
        "def gini(rows):\n",
        "    \"\"\"\n",
        "    Gini impurity = 1 - Σ (p_i)^2\n",
        "    di mana p_i adalah proporsi masing-masing class.\n",
        "    \"\"\"\n",
        "    counts = class_counts(rows)\n",
        "    impurity = 1.0\n",
        "    total = float(len(rows))\n",
        "    for lbl, cnt in counts.items():\n",
        "        prob_of_lbl = cnt / total\n",
        "        impurity -= prob_of_lbl ** 2\n",
        "    return impurity\n",
        "\n",
        "# -------- contoh penggunaan ----------\n",
        "print(\"Gini training_data:\", gini(training_data))\n",
        "\n",
        "# Contoh subset\n",
        "subset = [\n",
        "    ['Red', 1, 'Grape'],\n",
        "    ['Red', 1, 'Grape']\n",
        "]\n",
        "print(\"Gini subset Grape-only:\", gini(subset))\n"
      ],
      "metadata": {
        "colab": {
          "base_uri": "https://localhost:8080/"
        },
        "id": "DmAnmSzFMKtA",
        "outputId": "227d1a47-8653-4b63-a81a-d2bad60122f7"
      },
      "execution_count": 7,
      "outputs": [
        {
          "output_type": "stream",
          "name": "stdout",
          "text": [
            "Gini training_data: 0.6399999999999999\n",
            "Gini subset Grape-only: 0.0\n"
          ]
        }
      ]
    },
    {
      "cell_type": "markdown",
      "source": [
        "**apa itu information gain?**\n",
        "<br> information gain berfungsi mengukur seberapa efektif sebuah fitur dalam memisahkan data berdasarkan kelas-kelasnya"
      ],
      "metadata": {
        "id": "SyxWlLNOM_2U"
      }
    },
    {
      "cell_type": "code",
      "source": [
        "# menghitung nilai Information Gain dari pemisahan dataset\n",
        "def info_gain(left, right, current_uncertainty):\n",
        "    \"\"\"\n",
        "    left, right : hasil partition (list of rows)\n",
        "    current_uncertainty : gini dari dataset sebelum split\n",
        "    \"\"\"\n",
        "    p = float(len(left)) / (len(left) + len(right))\n",
        "    return current_uncertainty - p * gini(left) - (1 - p) * gini(right)\n",
        "\n",
        "# -------- contoh penggunaan ----------\n",
        "# misal kita pisahkan training_data dengan pertanyaan tertentu\n",
        "q = Question(0, \"Green\")                 # Apakah color == Green?\n",
        "true_rows, false_rows = partition(training_data, q)\n",
        "\n",
        "current_uncertainty = gini(training_data)\n",
        "gain = info_gain(true_rows, false_rows, current_uncertainty)\n",
        "\n",
        "print(\"Information Gain untuk pertanyaan\", q, \"=\", gain)\n"
      ],
      "metadata": {
        "id": "rObVucEEMiIZ",
        "colab": {
          "base_uri": "https://localhost:8080/"
        },
        "outputId": "5a54f545-5d2d-4c56-883c-3ad56707a78a"
      },
      "execution_count": 8,
      "outputs": [
        {
          "output_type": "stream",
          "name": "stdout",
          "text": [
            "Information Gain untuk pertanyaan Apakah color == Green? = 0.1399999999999999\n"
          ]
        }
      ]
    },
    {
      "cell_type": "code",
      "source": [
        "# mencari pertanyaan terbaik untuk membagi dataset berdasarkan information gain tertinggi\n",
        "def find_best_split(rows):\n",
        "    \"\"\"\n",
        "    Mengembalikan tuple (best_gain, best_question)\n",
        "    \"\"\"\n",
        "    best_gain = 0        # nilai information gain terbaik\n",
        "    best_question = None # pertanyaan terbaik\n",
        "    current_uncertainty = gini(rows)\n",
        "    n_features = len(rows[0]) - 1  # semua kolom kecuali label\n",
        "\n",
        "    for col in range(n_features):\n",
        "        # ambil nilai unik di kolom ini\n",
        "        values = set([row[col] for row in rows])\n",
        "\n",
        "        for val in values:\n",
        "            question = Question(col, val)\n",
        "\n",
        "            # splitting the dataset\n",
        "            true_rows, false_rows = partition(rows, question)\n",
        "\n",
        "            # Skip this split if it doesn't divide the dataset\n",
        "            if len(true_rows) == 0 or len(false_rows) == 0:\n",
        "                continue\n",
        "\n",
        "            # hitung information gain\n",
        "            gain = info_gain(true_rows, false_rows, current_uncertainty)\n",
        "\n",
        "            # simpan jika lebih baik\n",
        "            if gain > best_gain:\n",
        "                best_gain, best_question = gain, question\n",
        "\n",
        "    return best_gain, best_question\n",
        "\n",
        "\n",
        "# -------- contoh penggunaan ----------\n",
        "gain, question = find_best_split(training_data)\n",
        "print(\"Best Gain:\", gain)\n",
        "print(\"Best Question:\", question)\n"
      ],
      "metadata": {
        "colab": {
          "base_uri": "https://localhost:8080/"
        },
        "id": "OK8Lc7koOIyS",
        "outputId": "674f4ba3-c09a-4c35-ea26-0ba7f8460881"
      },
      "execution_count": 9,
      "outputs": [
        {
          "output_type": "stream",
          "name": "stdout",
          "text": [
            "Best Gain: 0.37333333333333324\n",
            "Best Question: Apakah color == Red?\n"
          ]
        }
      ]
    },
    {
      "cell_type": "markdown",
      "source": [
        "# Fungsi Decision Tree"
      ],
      "metadata": {
        "id": "t225xaaIPGow"
      }
    },
    {
      "cell_type": "code",
      "source": [
        "# merepresentasikan node daun (leaf) pada decision tree yang berisi hasil prediksi\n",
        "class Leaf:\n",
        "\n",
        "    # inisialisasi leaf dengan menghitung jumlah kemunculan tiap kelas\n",
        "    def __init__(self, rows):\n",
        "        # dictionary {label: jumlah} untuk semua contoh di subset ini\n",
        "        self.predictions = class_counts(rows)\n",
        "\n",
        "# -------- contoh penggunaan ----------\n",
        "leaf_node = Leaf([\n",
        "    ['Green', 3, 'Apple'],\n",
        "    ['Yellow', 3, 'Apple'],\n",
        "    ['Red', 1, 'Grape']\n",
        "])\n",
        "\n",
        "print(leaf_node.predictions)\n"
      ],
      "metadata": {
        "id": "3KXNVwMPOZ5c",
        "colab": {
          "base_uri": "https://localhost:8080/"
        },
        "outputId": "6034dd27-64c2-4c9d-d703-d5f3f74edf64"
      },
      "execution_count": 10,
      "outputs": [
        {
          "output_type": "stream",
          "name": "stdout",
          "text": [
            "{'Apple': 2, 'Grape': 1}\n"
          ]
        }
      ]
    },
    {
      "cell_type": "code",
      "source": [
        "# merepresentasikan node keputusan (decision node) yang berisi pertanyaan dan cabang\n",
        "class Decision_Node:\n",
        "\n",
        "    # inisialisasi node dengan pertanyaan, cabang benar, dan cabang salah\n",
        "    def __init__(self, question, true_branch, false_branch):\n",
        "        \"\"\"\n",
        "        question     : objek Question yang dipakai di node ini\n",
        "        true_branch  : subtree (Decision_Node/Leaf) untuk data yang match\n",
        "        false_branch : subtree (Decision_Node/Leaf) untuk data yang tidak match\n",
        "        \"\"\"\n",
        "        self.question = question\n",
        "        self.true_branch = true_branch\n",
        "        self.false_branch = false_branch\n",
        "\n",
        "\n",
        "# -------- contoh penggunaan ----------\n",
        "# misal kita buat leaf secara manual\n",
        "leaf_true = Leaf([['Green', 3, 'Apple']])\n",
        "leaf_false = Leaf([['Red', 1, 'Grape']])\n",
        "\n",
        "# buat decision node dengan pertanyaan “color == Green?”\n",
        "example_question = Question(0, \"Green\")\n",
        "root_node = Decision_Node(example_question, leaf_true, leaf_false)\n",
        "\n",
        "print(\"Pertanyaan di root:\", root_node.question)\n",
        "print(\"Prediksi jika True branch:\", root_node.true_branch.predictions)\n",
        "print(\"Prediksi jika False branch:\", root_node.false_branch.predictions)\n"
      ],
      "metadata": {
        "id": "gktUwUY-P-eN",
        "colab": {
          "base_uri": "https://localhost:8080/"
        },
        "outputId": "74cf4e34-74c8-496e-b420-79d223d061e9"
      },
      "execution_count": 11,
      "outputs": [
        {
          "output_type": "stream",
          "name": "stdout",
          "text": [
            "Pertanyaan di root: Apakah color == Green?\n",
            "Prediksi jika True branch: {'Apple': 1}\n",
            "Prediksi jika False branch: {'Grape': 1}\n"
          ]
        }
      ]
    },
    {
      "cell_type": "code",
      "source": [
        "# membangun decision tree secara rekursif\n",
        "def build_tree(rows):\n",
        "    \"\"\"\n",
        "    Mengembalikan root dari decision tree.\n",
        "    \"\"\"\n",
        "    # 1. Cari pertanyaan terbaik untuk split data saat ini\n",
        "    gain, question = find_best_split(rows)\n",
        "\n",
        "    # 2. Basis rekursi: jika tidak ada information gain,\n",
        "    #    buat Leaf (node daun) dengan distribusi label\n",
        "    if gain == 0:\n",
        "        return Leaf(rows)\n",
        "\n",
        "    # 3. Jika ada pertanyaan terbaik, pisahkan data\n",
        "    true_rows, false_rows = partition(rows, question)\n",
        "\n",
        "    # 4. Rekursif ke cabang true dan false\n",
        "    true_branch = build_tree(true_rows)\n",
        "    false_branch = build_tree(false_rows)\n",
        "\n",
        "    # 5. Kembalikan node keputusan\n",
        "    return Decision_Node(question, true_branch, false_branch)\n",
        "\n",
        "\n",
        "# -------- contoh penggunaan ----------\n",
        "tree = build_tree(training_data)\n",
        "print(\"Tree berhasil dibangun!\")\n",
        "print(\"Root Question:\", tree.question)\n",
        "print(\"True branch type:\", type(tree.true_branch).__name__)\n",
        "print(\"False branch type:\", type(tree.false_branch).__name__)\n"
      ],
      "metadata": {
        "id": "_cWHvsMKPPsk",
        "colab": {
          "base_uri": "https://localhost:8080/"
        },
        "outputId": "2ed053b2-5942-4c70-c688-20a12603c583"
      },
      "execution_count": 12,
      "outputs": [
        {
          "output_type": "stream",
          "name": "stdout",
          "text": [
            "Tree berhasil dibangun!\n",
            "Root Question: Apakah color == Red?\n",
            "True branch type: Leaf\n",
            "False branch type: Decision_Node\n"
          ]
        }
      ]
    },
    {
      "cell_type": "code",
      "source": [
        "# mencetak struktur decision tree secara rekursif dalam format teks\n",
        "def print_tree(node, spacing=\"\"):\n",
        "    # base case: jika sudah mencapai leaf\n",
        "    if isinstance(node, Leaf):\n",
        "        print(spacing + \"Prediksi:\", node.predictions)\n",
        "        return\n",
        "\n",
        "    # mencetak pertanyaan pada node saat ini\n",
        "    print(spacing + str(node.question))\n",
        "\n",
        "    # mencetak cabang true secara rekursif\n",
        "    print(spacing + '--> True:')\n",
        "    print_tree(node.true_branch, spacing + \"  \")\n",
        "\n",
        "    # mencetak cabang false secara rekursif\n",
        "    print(spacing + '--> False:')\n",
        "    print_tree(node.false_branch, spacing + \"  \")\n",
        "\n",
        "\n",
        "# -------- contoh penggunaan ----------\n",
        "tree = build_tree(training_data)\n",
        "print_tree(tree)\n"
      ],
      "metadata": {
        "colab": {
          "base_uri": "https://localhost:8080/"
        },
        "id": "tx_AbjiYPS05",
        "outputId": "062d3a8c-1b52-48a6-dc68-958ffb491eda"
      },
      "execution_count": 13,
      "outputs": [
        {
          "output_type": "stream",
          "name": "stdout",
          "text": [
            "Apakah color == Red?\n",
            "--> True:\n",
            "  Prediksi: {'Grape': 2}\n",
            "--> False:\n",
            "  Apakah color == Yellow?\n",
            "  --> True:\n",
            "    Prediksi: {'Apple': 1, 'Lemon': 1}\n",
            "  --> False:\n",
            "    Prediksi: {'Apple': 1}\n"
          ]
        }
      ]
    },
    {
      "cell_type": "code",
      "source": [
        "# mengklasifikasikan satu baris data menggunakan decision tree\n",
        "def classify(row, node):\n",
        "    # base case: jika sudah mencapai leaf\n",
        "    if isinstance(node, Leaf):\n",
        "        return node.predictions\n",
        "\n",
        "    # menentukan apakah mengikuti cabang true atau cabang false\n",
        "    if node.question.match(row):\n",
        "        return classify(row, node.true_branch)\n",
        "    else:\n",
        "        return classify(row, node.false_branch)\n",
        "\n",
        "\n",
        "# -------- contoh penggunaan ----------\n",
        "tree = build_tree(training_data)\n",
        "\n",
        "# klasifikasi beberapa contoh\n",
        "for test_row in testing_data:\n",
        "    prediction = classify(test_row, tree)\n",
        "    print(f\"Data: {test_row} => Prediksi: {prediction}\")\n"
      ],
      "metadata": {
        "colab": {
          "base_uri": "https://localhost:8080/"
        },
        "id": "tchvhQc-PVC2",
        "outputId": "7e6c5404-78b4-43c5-d2d9-08fe725f29da"
      },
      "execution_count": 14,
      "outputs": [
        {
          "output_type": "stream",
          "name": "stdout",
          "text": [
            "Data: ['Green', 3, 'Apple'] => Prediksi: {'Apple': 1}\n",
            "Data: ['Yellow', 4, 'Apple'] => Prediksi: {'Apple': 1, 'Lemon': 1}\n",
            "Data: ['Red', 2, 'Grape'] => Prediksi: {'Grape': 2}\n",
            "Data: ['Red', 1, 'Grape'] => Prediksi: {'Grape': 2}\n",
            "Data: ['Yellow', 3, 'Lemon'] => Prediksi: {'Apple': 1, 'Lemon': 1}\n"
          ]
        }
      ]
    },
    {
      "cell_type": "code",
      "source": [
        "# menampilkan prediksi pada leaf dalam format persentase\n",
        "def print_leaf(counts):\n",
        "    \"\"\"\n",
        "    counts : dict {label: jumlah}\n",
        "    return : dict {label: 'persentase%'}\n",
        "    \"\"\"\n",
        "    total = sum(counts.values())\n",
        "    probs = {}\n",
        "    for lbl, cnt in counts.items():\n",
        "        percentage = int(cnt / total * 100)\n",
        "        probs[lbl] = f\"{percentage}%\"\n",
        "    return probs\n",
        "\n",
        "\n",
        "# -------- contoh penggunaan ----------\n",
        "example_counts = {'Apple': 2, 'Grape': 1, 'Lemon': 1}\n",
        "print(print_leaf(example_counts))\n"
      ],
      "metadata": {
        "colab": {
          "base_uri": "https://localhost:8080/"
        },
        "id": "w8r0lzWpQM7c",
        "outputId": "615c4170-58f2-4308-ce1e-ce3be85f700e"
      },
      "execution_count": 15,
      "outputs": [
        {
          "output_type": "stream",
          "name": "stdout",
          "text": [
            "{'Apple': '50%', 'Grape': '25%', 'Lemon': '25%'}\n"
          ]
        }
      ]
    },
    {
      "cell_type": "markdown",
      "source": [
        "# Predict Using Decision Tree"
      ],
      "metadata": {
        "id": "JLT1_TuuQWlI"
      }
    },
    {
      "cell_type": "code",
      "source": [
        "# menguji decision tree dengan data uji dan membandingkan hasil prediksi dengan label asli\n",
        "for row in testing_data:\n",
        "    prediction = classify(row, tree)             # distribusi label\n",
        "    predicted_label = max(prediction, key=prediction.get)  # ambil label mayoritas\n",
        "    actual_label = row[-1]                       # label asli (kolom terakhir)\n",
        "    print(f\"Data: {row[:-1]} | Prediksi: {predicted_label} | Asli: {actual_label}\")\n",
        "\n",
        ""
      ],
      "metadata": {
        "colab": {
          "base_uri": "https://localhost:8080/"
        },
        "id": "DhG5NCwHQSlF",
        "outputId": "0b1d279b-4a99-4632-9a51-be813f82e273"
      },
      "execution_count": 17,
      "outputs": [
        {
          "output_type": "stream",
          "name": "stdout",
          "text": [
            "Data: ['Green', 3] | Prediksi: Apple | Asli: Apple\n",
            "Data: ['Yellow', 4] | Prediksi: Apple | Asli: Apple\n",
            "Data: ['Red', 2] | Prediksi: Grape | Asli: Grape\n",
            "Data: ['Red', 1] | Prediksi: Grape | Asli: Grape\n",
            "Data: ['Yellow', 3] | Prediksi: Apple | Asli: Lemon\n"
          ]
        }
      ]
    }
  ]
}